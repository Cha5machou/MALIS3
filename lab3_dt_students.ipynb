{
 "cells": [
  {
   "cell_type": "markdown",
   "metadata": {},
   "source": [
    "<h1>MALIS Lab Session 3 - Fall 2018</h1>"
   ]
  },
  {
   "cell_type": "markdown",
   "metadata": {},
   "source": [
    "The aim of this lab session is to practice with decision trees. Your goal is to build a classifier telling you if mushrooms are edible or not.\n",
    "\n",
    "**DISCLAIMER: this lab is for educational purposes only, NONE of the models you will implement in the following should be used in real life to know whether mushrooms are edible or not. If you do so, you will probably DIE in a HORRIBLE and PAINFUL death.**\n",
    "\n",
    "Experiments should be made by groups of two students. Each group should produce a Jupyter Notebook with all their results and comments. We strongly encourage the addition of plots and visual representations to the report, bearing in mind that comments on graphical data are still necessary. Code for adding images to your notebook: ```<img src=\"path/to/image.png\" />```.\n",
    "\n",
    "Submit your complete notebook as an archive (tar -cf groupXnotebook.tar lab3/). Deadline for submitting your notebook: 1 February 2019."
   ]
  },
  {
   "cell_type": "markdown",
   "metadata": {},
   "source": [
    "<h1>Introduction</h1>"
   ]
  },
  {
   "cell_type": "markdown",
   "metadata": {},
   "source": [
    "This lab session is based on the mushrooms dataset that can be found at https://archive.ics.uci.edu/ml/datasets/mushroom. Data come from *Mushroom records drawn from The Audubon Society Field Guide to North American Mushrooms* (1981) by G. H. Lincoff. This data set includes descriptions of hypothetical samples corresponding to 23 species of gilled mushrooms in the Agaricus and Lepiota Family (pp. 500-525). Each species is identified as definitely edible, definitely poisonous, or of unknown edibility and not recommended. This latter class was combined with the poisonous one. **The Guide clearly states that there is no simple rule for determining the edibility of a mushroom**.\n",
    "\n",
    "You will use the following attributes to classify mushrooms between edible and poisonous.\n",
    "\n",
    "<table>\n",
    "    <tbody>\n",
    "        <tr>\n",
    "            <th><p>Attributes</p></th>\n",
    "            <th><p>Possible Values</p></th>\n",
    "            <th><p>Nb Values</p></th>\n",
    "        </tr>\n",
    "        <tr>\n",
    "            <td><p>class</p></td>\n",
    "            <td><p>edible=e,poisonous=p</p></td>\n",
    "            <td><p>2</p></td>\n",
    "        </tr>\n",
    "        <tr>\n",
    "            <td><p>cap-shape</p></td>\n",
    "            <td><p>bell=b,conical=c,convex=x,flat=f,knobbed=k,sunken=s</p></td>\n",
    "            <td><p>6</p></td>\n",
    "        </tr>\n",
    "        <tr>\n",
    "            <td><p>cap-surface</p></td>\n",
    "            <td><p>fibrous=f,grooves=g,scaly=y,smooth=s</p></td>\n",
    "            <td><p>4</p></td>\n",
    "        </tr>\n",
    "        <tr>\n",
    "            <td><p>cap-color</p></td>\n",
    "            <td><p>brown=n,buff=b,cinnamon=c,gray=g,green=r,pink=p,purple=u,red=e,white=w,yellow=y</p></td>\n",
    "            <td><p>10</p></td>\n",
    "        </tr>\n",
    "        <tr>\n",
    "            <td><p>bruises?</p></td>\n",
    "            <td><p>bruises=t,no=f</p></td>\n",
    "            <td><p>2</p></td>\n",
    "        </tr>\n",
    "        <tr>\n",
    "            <td><p>odor</p></td>\n",
    "            <td><p>almond=a,anise=l,creosote=c,fishy=y,foul=f,musty=m,none=n,pungent=p,spicy=s</p></td>\n",
    "            <td><p>9</p></td>\n",
    "        </tr>\n",
    "        <tr>\n",
    "            <td><p>gill-attachment</p></td>\n",
    "            <td><p>attached=a,descending=d,free=f,notched=n</p></td>\n",
    "            <td><p>4</p></td>\n",
    "        </tr>\n",
    "        <tr>\n",
    "            <td><p>gill-spacing</p></td>\n",
    "            <td><p>close=c,crowded=w,distant=d</p></td>\n",
    "            <td><p>3</p></td>\n",
    "        </tr>\n",
    "        <tr>\n",
    "            <td><p>gill-size</p></td>\n",
    "            <td><p>broad=b,narrow=n</p></td>\n",
    "            <td><p>2</p></td>\n",
    "        </tr>\n",
    "        <tr>\n",
    "            <td><p>gill-color</p></td>\n",
    "            <td><p>black=k,brown=n,buff=b,chocolate=h,gray=g,green=r,orange=o,pink=p,purple=u,red=e,white=w,yellow=y</p></td>\n",
    "            <td><p>12</p></td>\n",
    "        </tr>\n",
    "        <tr>\n",
    "            <td><p>stalk-shape</p></td>\n",
    "            <td><p>enlarging=e,tapering=t</p></td>\n",
    "            <td><p>2</p></td>\n",
    "        </tr>\n",
    "        <tr>\n",
    "            <td><p>stalk-root</p></td>\n",
    "            <td><p>bulbous=b,club=c,cup=u,equal=e,rhizomorphs=z,rooted=r,missing=?</p></td>\n",
    "            <td><p>7</p></td>\n",
    "        </tr>\n",
    "        <tr>\n",
    "            <td><p>stalk-surface-above-ring</p></td>\n",
    "            <td><p>fibrous=f,scaly=y,silky=k,smooth=s</p></td>\n",
    "            <td><p>4</p></td>\n",
    "        </tr>\n",
    "        <tr>\n",
    "            <td><p>stalk-surface-below-ring</p></td>\n",
    "            <td><p>fibrous=f,scaly=y,silky=k,smooth=s</p></td>\n",
    "            <td><p>4</p></td>\n",
    "        </tr>\n",
    "        <tr>\n",
    "            <td><p>stalk-color-above-ring</p></td>\n",
    "            <td><p>brown=n,buff=b,cinnamon=c,gray=g,orange=o,pink=p,red=e,white=w,yellow=y</p></td>\n",
    "            <td><p>9</p></td>\n",
    "        </tr>\n",
    "        <tr>\n",
    "            <td><p>stalk-color-below-ring</p></td>\n",
    "            <td><p>brown=n,buff=b,cinnamon=c,gray=g,orange=o,pink=p,red=e,white=w,yellow=y</p></td>\n",
    "            <td><p>9</p></td>\n",
    "        </tr>\n",
    "        <tr>\n",
    "            <td><p>veil-type</p></td>\n",
    "            <td><p>partial=p,universal=u</p></td>\n",
    "            <td><p>2</p></td>\n",
    "        </tr>\n",
    "        <tr>\n",
    "            <td><p>veil-color</p></td>\n",
    "            <td><p>brown=n,orange=o,white=w,yellow=y</p></td>\n",
    "            <td><p>4</p></td>\n",
    "        </tr>\n",
    "        <tr>\n",
    "            <td><p>ring-number</p></td>\n",
    "            <td><p>none=n,one=o,two=t</p></td>\n",
    "            <td><p>3</p></td>\n",
    "        </tr>\n",
    "        <tr>\n",
    "            <td><p>ring-type</p></td>\n",
    "            <td><p>cobwebby=c,evanescent=e,flaring=f,large=l,none=n,pendant=p,sheathing=s,zone=z</p></td>\n",
    "            <td><p>8</p></td>\n",
    "        </tr>\n",
    "        <tr>\n",
    "            <td><p>spore-print-color</p></td>\n",
    "            <td><p>black=k,brown=n,buff=b,chocolate=h,green=r,orange=o,purple=u,white=w,yellow=y</p></td>\n",
    "            <td><p>9</p></td>\n",
    "        </tr>\n",
    "        <tr>\n",
    "            <td><p>population</p></td>\n",
    "            <td><p>abundant=a,clustered=c,numerous=n,scattered=s,several=v,solitary=y</p></td>\n",
    "            <td><p>6</p></td>\n",
    "        </tr>\n",
    "        <tr>\n",
    "            <td><p>habitat</p></td>\n",
    "            <td><p>grasses=g,leaves=l,meadows=m,paths=p,urban=u,waste=w,woods=d</p></td>\n",
    "            <td><p>7</p></td>\n",
    "        </tr>\n",
    "    </tbody>\n",
    "</table>\n",
    "\n",
    "All the questions that will be asked in your decision trees will be in the form \"is (ATTRIBUTE) equal to (VALUE)?\". Therefore, you will have a total number of 126 possible questions. We divide the dataset into a training set of size 7124 and a test set of size 1000.\n",
    "\n",
    "In the first part, you will have to complete missing parts of a code implementing decision trees. In the second part, you will make some experiments on the Mushrooms dataset.\n",
    "\n",
    "First of all, please run the following cell to import relevant libraries, classes and functions."
   ]
  },
  {
   "cell_type": "code",
   "execution_count": 10,
   "metadata": {},
   "outputs": [],
   "source": [
    "import math\n",
    "import random\n",
    "import matplotlib.pyplot as plt\n",
    "from utils import Dataset, Sample, Tree, equals, import_data, accuracy\n",
    "log2 = lambda x: 0 if x <= 0 else math.log(x, 2)"
   ]
  },
  {
   "cell_type": "markdown",
   "metadata": {},
   "source": [
    "<h1>Part 1: Implementing Decision Trees</h1>\n",
    "\n",
    "In this lab, you will work with the Sample, Dataset and Tree classes. The Sample class represents a mushroom. Its attribute \"is_positive\" will be True when the mushroom is edible and False if it is poisonous. The Dataset class represents a set of mushrooms. The Tree class actually represents a node of a Decision Tree. We strongly advise you to have a look at these classes (in the utils.py file) to understand well how they work.\n",
    "\n",
    "<h4>Question 1</h4>\n",
    "Implement the compute_entropy() function and the split() function of the Dataset class."
   ]
  },
  {
   "cell_type": "code",
   "execution_count": 11,
   "metadata": {},
   "outputs": [],
   "source": [
    "def compute_entropy(self):\n",
    "    '''\n",
    "    Compute the entropy of a set of mushrooms (entropy = - p_edible*log2(p_edible) - p_poisonous*log2(p_poisonous))\n",
    "    '''\n",
    "    dataset = self.data\n",
    "    total_number_of_samples = 100 if self.len==0 else self.len   \n",
    "    p_positive=len([x for x in dataset if x.is_positive == True])/total_number_of_samples\n",
    "    entropy = - p_positive*log2(p_positive) - (1-p_positive)*log2((1-p_positive))\n",
    "    return entropy\n",
    "Dataset.compute_entropy = compute_entropy\n",
    "\n",
    "def split(self, attribute, value, function):\n",
    "    '''\n",
    "    Split a dataset into two datasets according to a question\n",
    "    Given a sample x, the answer of the question is function(x.attributes[attribute], value)\n",
    "    pos_set and neg_set are Dataset objects\n",
    "    '''\n",
    "    if not self.len: # If the dataset is empty, we return default values\n",
    "        return set(), set(), 0.\n",
    "    p=set()\n",
    "    n=set()\n",
    "    for e in self.data:\n",
    "        test = function(e.attributes[attribute], value)\n",
    "        if test:\n",
    "            p.add(e)\n",
    "        else:\n",
    "            n.add(e)\n",
    "        \n",
    "    \n",
    "    pos_set = Dataset(p)# Dataset(samples x verifying function(x.attributes[attribute], value) == True)\n",
    "    neg_set = Dataset(n)# Dataset(samples x verifying function(x.attributes[attribute], value) == False)\n",
    "    p_positive= len(pos_set)/len(self.data)\n",
    "    p_neg = len(neg_set)/len(self.data)\n",
    "    split_entropy =  p_positive*pos_set.compute_entropy() + p_neg*neg_set.compute_entropy()\n",
    "    return pos_set, neg_set, split_entropy\n",
    "\n",
    "Dataset.split = split"
   ]
  },
  {
   "cell_type": "markdown",
   "metadata": {},
   "source": [
    "<h4>Question 2</h4>\n",
    "Implement the make_question() function of the Tree class."
   ]
  },
  {
   "cell_type": "code",
   "execution_count": 12,
   "metadata": {},
   "outputs": [],
   "source": [
    "def make_question(self, questions_set, max_level):\n",
    "    '''\n",
    "    Find the best question for a node. If no entropy improvement is possible, then (None, None, None), self.entropy_before is returned.\n",
    "    '''\n",
    "    best_entropy = self.entropy_before\n",
    "    pos_set = set()\n",
    "    neg_set = set()\n",
    "    best_question = (None, None, None)\n",
    "    for attribute, value, function in questions_set:\n",
    "        new_pos_set, new_neg_set, new_entropy = self.train_dataset.split(attribute, value, function)# Split dataset according to question (attribute, value, function)\n",
    "        if new_entropy < best_entropy: # If entropy improves\n",
    "            best_entropy = new_entropy\n",
    "            pos_set = new_pos_set\n",
    "            neg_set = new_neg_set\n",
    "            best_question = (attribute, value, function)\n",
    "    if best_question[0]: # If at least one question improves entropy\n",
    "        if len(pos_set) and len(neg_set): # If none of both sets are empty\n",
    "            new_questions_set = questions_set - set([best_question])\n",
    "            self.pos_tree = Tree(new_questions_set, pos_set, max_level, self) # Where to go if the answer to the best question is positive\n",
    "            self.neg_tree = Tree(new_questions_set, neg_set, max_level, self)  # Where to go if the answer to the best question is negative\n",
    "        else: # It can happen that entropy decreases due to floating-point errors...\n",
    "            return best_question, self.entropy_before # If one of the sets if empty, then we return the previous entropy\n",
    "                                                      # and it means that the current node is actually a leaf\n",
    "    return best_question, best_entropy\n",
    "Tree.make_question = make_question"
   ]
  },
  {
   "cell_type": "markdown",
   "metadata": {},
   "source": [
    "<h1>Part 2: Detecting edible mushrooms</h1>\n",
    "\n",
    "In this part you will run your code on the Mushrooms dataset. First of all, run the following cell to import data."
   ]
  },
  {
   "cell_type": "code",
   "execution_count": 13,
   "metadata": {},
   "outputs": [
    {
     "name": "stdout",
     "output_type": "stream",
     "text": [
      "7124 1000\n"
     ]
    }
   ],
   "source": [
    "train_set, test_set, questions_set = import_data()\n",
    "print(len(train_set), len(test_set))\n"
   ]
  },
  {
   "cell_type": "code",
   "execution_count": 14,
   "metadata": {},
   "outputs": [],
   "source": [
    "import pandas as pd\n",
    "import seaborn as sns\n",
    "%matplotlib inline\n",
    "df = pd.read_csv(\"mushrooms_train.csv\",dtype=None, delimiter=\",\")\n",
    "df2=df\n",
    "for i in range(0,len(df.columns)):\n",
    "    t = 0\n",
    "    dic = {}\n",
    "    for e in list(df2.iloc[:, i].unique()):\n",
    "        dic[e]=t\n",
    "        t+=1\n",
    "    for e in dic.keys():\n",
    "        df2.iloc[:, i]=df2.iloc[:, i].replace(e,dic[e])"
   ]
  },
  {
   "cell_type": "code",
   "execution_count": 15,
   "metadata": {},
   "outputs": [
    {
     "data": {
      "image/png": "[encoded data removed]",
      "text/plain": [
       "<Figure size 432x288 with 2 Axes>"
      ]
     },
     "metadata": {},
     "output_type": "display_data"
    }
   ],
   "source": [
    "corr = df2.corr()\n",
    "sns_plot = sns.heatmap(corr, \n",
    "        xticklabels=corr.columns,\n",
    "        yticklabels=corr.columns)\n",
    "figure = sns_plot.get_figure()    \n",
    "figure.savefig('svm_conf.png', dpi=400)"
   ]
  },
  {
   "cell_type": "markdown",
   "metadata": {},
   "source": [
    "Here we plotted a heatmap of correlation between the diffrent attributes of a mushroom. We can already see that some attributes could provide a lot of information about the edibility of a mushroom for instance bruises, gill-attachement and ring-number. Odor behave much like class which could tell us about the edibility of a mushroom."
   ]
  },
  {
   "cell_type": "code",
   "execution_count": 16,
   "metadata": {},
   "outputs": [
    {
     "name": "stdout",
     "output_type": "stream",
     "text": [
      "H(class) is equal to 8.237479288613631\n",
      "H(class|bruises) is equal to 0.8061888583833858\n",
      "H(class|cap-shape) is equal to 0.9734452518827197\n",
      "H(class|cap-surface) is equal to 0.9577432895591672\n",
      "H(class|cap-color) is equal to 0.9273863580654473\n",
      "H(class|odor) is equal to 0.10446849782922776\n",
      "H(class|gill-attachment) is equal to 0.9822860230999174\n",
      "H(class|gill-spacing) is equal to 0.8820772498655445\n",
      "H(class|gill-size) is equal to 0.7393762445313111\n",
      "H(class|gill-color) is equal to 0.5588896822704581\n",
      "H(class|stalk-shape) is equal to 0.9645734915106412\n",
      "H(class|stalk-root) is equal to 0.9073472788966988\n",
      "H(class|stalk-surface-above-ring) is equal to 0.71828419732541\n",
      "H(class|stalk-surface-below-ring) is equal to 0.7289803794384326\n",
      "H(class|stalk-color-above-ring) is equal to 0.7385625445311501\n",
      "H(class|stalk-color-below-ring) is equal to 0.7517924895026601\n",
      "H(class|veil-type) is equal to 0.9972964080768636\n",
      "H(class|ring-number) is equal to 0.9464915806719143\n",
      "H(class|ring-type) is equal to 0.6900178515104539\n",
      "H(class|spore-print-color) is equal to 0.5247767672999822\n",
      "H(class|population) is equal to 0.8156067500987747\n",
      "H(class|habitat) is equal to 0.812198096775687\n",
      "_________________________________\n",
      "odor has an entropy of:  0.10446849782922776\n",
      "spore-print-color has an entropy of:  0.5247767672999822\n",
      "gill-color has an entropy of:  0.5588896822704581\n",
      "ring-type has an entropy of:  0.6900178515104539\n",
      "stalk-surface-above-ring has an entropy of:  0.71828419732541\n",
      "stalk-surface-below-ring has an entropy of:  0.7289803794384326\n",
      "stalk-color-above-ring has an entropy of:  0.7385625445311501\n",
      "gill-size has an entropy of:  0.7393762445313111\n",
      "stalk-color-below-ring has an entropy of:  0.7517924895026601\n",
      "bruises has an entropy of:  0.8061888583833858\n",
      "habitat has an entropy of:  0.812198096775687\n",
      "population has an entropy of:  0.8156067500987747\n",
      "gill-spacing has an entropy of:  0.8820772498655445\n",
      "stalk-root has an entropy of:  0.9073472788966988\n",
      "cap-color has an entropy of:  0.9273863580654473\n",
      "ring-number has an entropy of:  0.9464915806719143\n",
      "cap-surface has an entropy of:  0.9577432895591672\n",
      "stalk-shape has an entropy of:  0.9645734915106412\n",
      "cap-shape has an entropy of:  0.9734452518827197\n",
      "gill-attachment has an entropy of:  0.9822860230999174\n",
      "veil-type has an entropy of:  0.9972964080768636\n"
     ]
    }
   ],
   "source": [
    "from scipy.stats import entropy \n",
    "\n",
    "def entropy_class(df,name):\n",
    "    a = df.groupby('class')[name].value_counts()\n",
    "#     print(a)\n",
    "#     print(len(a[0]))\n",
    "    s = sum(a)\n",
    "    h = 0\n",
    "    s_c = 0\n",
    "    for i in range(len(df2[name].unique())):\n",
    "        s_c = sum(a[:,i])\n",
    "#         print('This is sum by column for',i,': ',str(s_c))\n",
    "        for j in range(len(df.iloc[:,0].unique())):\n",
    "            try:\n",
    "#                 print(i,'+',j,': ',a[j,i])\n",
    "                h+= a[j][i]/s * log2(a[j][i]/s_c)\n",
    "            except:\n",
    "                pass\n",
    "    return -h\n",
    "    \n",
    "values = {}\n",
    "print(\"H(class) is equal to \"+str(entropy(df2.iloc[:, 0])))\n",
    "\n",
    "\n",
    "print(\"H(class|bruises) is equal to \"+str(entropy_class(df2,'bruises')))\n",
    "values[entropy_class(df2,'bruises')] = \"bruises\"\n",
    "print(\"H(class|cap-shape) is equal to \"+str(entropy_class(df2,'cap-shape')))\n",
    "values[entropy_class(df2,'cap-shape')] = \"cap-shape\"\n",
    "print(\"H(class|cap-surface) is equal to \"+str(entropy_class(df2,'cap-surface')))\n",
    "values[entropy_class(df2,'cap-surface')] = \"cap-surface\"\n",
    "print(\"H(class|cap-color) is equal to \"+str(entropy_class(df2,'cap-color')))\n",
    "values[entropy_class(df2,'cap-color')] = \"cap-color\"\n",
    "print(\"H(class|odor) is equal to \"+str(entropy_class(df2,'odor')))\n",
    "values[entropy_class(df2,'odor')] = \"odor\"\n",
    "print(\"H(class|gill-attachment) is equal to \"+str(entropy_class(df2,'gill-attachment')))\n",
    "values[entropy_class(df2,'gill-attachment')] = \"gill-attachment\"\n",
    "print(\"H(class|gill-spacing) is equal to \"+str(entropy_class(df2,'gill-spacing')))\n",
    "values[entropy_class(df2,'gill-spacing')] = \"gill-spacing\"\n",
    "print(\"H(class|gill-size) is equal to \"+str(entropy_class(df2,'gill-size')))\n",
    "values[entropy_class(df2,'gill-size')] = \"gill-size\"\n",
    "print(\"H(class|gill-color) is equal to \"+str(entropy_class(df2,'gill-color')))\n",
    "values[entropy_class(df2,'gill-color')] = \"gill-color\"\n",
    "print(\"H(class|stalk-shape) is equal to \"+str(entropy_class(df2,'stalk-shape')))\n",
    "values[entropy_class(df2,'stalk-shape')] = \"stalk-shape\"\n",
    "print(\"H(class|stalk-root) is equal to \"+str(entropy_class(df2,'stalk-root')))\n",
    "values[entropy_class(df2,'stalk-root')] = \"stalk-root\"\n",
    "print(\"H(class|stalk-surface-above-ring) is equal to \"+str(entropy_class(df2,'stalk-surface-above-ring')))\n",
    "values[entropy_class(df2,'stalk-surface-above-ring')] = \"stalk-surface-above-ring\"\n",
    "print(\"H(class|stalk-surface-below-ring) is equal to \"+str(entropy_class(df2,'stalk-surface-below-ring')))\n",
    "values[entropy_class(df2,'stalk-surface-below-ring')] = \"stalk-surface-below-ring\"\n",
    "print(\"H(class|stalk-color-above-ring) is equal to \"+str(entropy_class(df2,'stalk-color-above-ring')))\n",
    "values[entropy_class(df2,'stalk-color-above-ring')] = \"stalk-color-above-ring\"\n",
    "print(\"H(class|stalk-color-below-ring) is equal to \"+str(entropy_class(df2,'stalk-color-below-ring')))\n",
    "values[entropy_class(df2,'stalk-color-below-ring')] = \"stalk-color-below-ring\"\n",
    "print(\"H(class|veil-type) is equal to \"+str(entropy_class(df2,'veil-type')))\n",
    "values[entropy_class(df2,'veil-type')] = \"veil-type\"\n",
    "print(\"H(class|ring-number) is equal to \"+str(entropy_class(df2,'ring-number')))\n",
    "values[entropy_class(df2,'ring-number')] = \"ring-number\"\n",
    "print(\"H(class|ring-type) is equal to \"+str(entropy_class(df2,'ring-type')))\n",
    "values[entropy_class(df2,'ring-type')] = \"ring-type\"\n",
    "print(\"H(class|spore-print-color) is equal to \"+str(entropy_class(df2,'spore-print-color')))\n",
    "values[entropy_class(df2,'spore-print-color')] = \"spore-print-color\"\n",
    "print(\"H(class|population) is equal to \"+str(entropy_class(df2,'population')))\n",
    "values[entropy_class(df2,'population')] = \"population\"\n",
    "print(\"H(class|habitat) is equal to \"+str(entropy_class(df2,'habitat')))\n",
    "values[entropy_class(df2,'habitat')] = \"habitat\"\n",
    "print(\"_________________________________\")\n",
    "import collections\n",
    "d= collections.OrderedDict(sorted(values.items()))\n",
    "for e in d.items():\n",
    "    print(e[1],'has an entropy of: ',e[0])\n"
   ]
  },
  {
   "cell_type": "markdown",
   "metadata": {},
   "source": [
    "We created a code that orders questions with their relative entropy. We can see like we observed before that odor is the most relevant question to ask first."
   ]
  },
  {
   "cell_type": "markdown",
   "metadata": {},
   "source": [
    "<h4>Question 3</h4>\n",
    "Run the following cell to build a decision tree of depth 1 based on the Mushrooms training dataset. What is the most informing question to ask?"
   ]
  },
  {
   "cell_type": "code",
   "execution_count": 21,
   "metadata": {},
   "outputs": [
    {
     "name": "stdout",
     "output_type": "stream",
     "text": [
      "(odor equals n? Entropy gain = 0.76)\n",
      "\t---> True (p_positive = 96.37 %)\n",
      "\t---> False (p_positive = 4.03 %)\n",
      "\n"
     ]
    }
   ],
   "source": [
    "tree = Tree(questions_set, Dataset(train_set),1)\n",
    "print(tree)"
   ]
  },
  {
   "cell_type": "markdown",
   "metadata": {},
   "source": [
    "<h4>Your answer</h4>\n",
    "The most informing question is to ask about the presence of an odor. "
   ]
  },
  {
   "cell_type": "markdown",
   "metadata": {},
   "source": [
    "<h4>Question 4</h4>\n",
    "Now run the following cell to build decision trees of maximum depth 0 to 8 and plot their accuracies and maximum depths. What do you notice? Explain your observations."
   ]
  },
  {
   "cell_type": "code",
   "execution_count": 22,
   "metadata": {},
   "outputs": [
    {
     "data": {
      "image/png": "[encoded data removed]",
      "text/plain": [
       "<Figure size 432x288 with 1 Axes>"
      ]
     },
     "metadata": {},
     "output_type": "display_data"
    },
    {
     "data": {
      "image/png": "[encoded data removed]",
      "text/plain": [
       "<Figure size 432x288 with 1 Axes>"
      ]
     },
     "metadata": {},
     "output_type": "display_data"
    }
   ],
   "source": [
    "trees = [Tree(questions_set, Dataset(train_set), i) for i in range(9)]\n",
    "accuracies = [accuracy(trees[i], test_set) for i in range(9)]\n",
    "depths = [trees[i].get_size() for i in range(9)]\n",
    "\n",
    "plt.plot(list(range(9)), accuracies, 'ro')\n",
    "plt.ylabel('Accuracy')\n",
    "plt.xlabel('Maximum tree depth')\n",
    "plt.axis([0, 9, 0, 1.1])\n",
    "plt.show()\n",
    "\n",
    "plt.plot(list(range(9)), depths, 'bo')\n",
    "plt.ylabel('Actual tree depth')\n",
    "plt.xlabel('Maximum tree depth')\n",
    "plt.axis([0, 9, 0, 9])\n",
    "plt.show()"
   ]
  },
  {
   "cell_type": "markdown",
   "metadata": {},
   "source": [
    "<h4>Your answer</h4>\n",
    "We can notice that:<br>\n",
    "1) the more the tree is deep the more is it accurate<br>\n",
    "2) From a certain depth(5) we cannot improve accuracy anymore (we obtain with certitude an answer)<br>"
   ]
  },
  {
   "cell_type": "markdown",
   "metadata": {},
   "source": [
    "For the following you will work with a tree of depth 5. Run the following cell to build it and print it."
   ]
  },
  {
   "cell_type": "code",
   "execution_count": 23,
   "metadata": {},
   "outputs": [
    {
     "name": "stdout",
     "output_type": "stream",
     "text": [
      "(odor equals n? Entropy gain = 0.76)\n",
      "\t(spore-print-color equals r? Entropy gain = 0.11)\n",
      "\t\t---> False (p_positive = 0.0 %)\n",
      "\t\t(stalk-surface-below-ring equals y? Entropy gain = 0.07)\n",
      "\t\t\t(ring-type equals e? Entropy gain = 0.86)\n",
      "\t\t\t\t---> False (p_positive = 0.0 %)\n",
      "\t\t\t\t---> True (p_positive = 100.0 %)\n",
      "\t\t\t(gill-size equals b? Entropy gain = 0.01)\n",
      "\t\t\t\t---> True (p_positive = 100.0 %)\n",
      "\t\t\t\t(bruises equals t? Entropy gain = 0.35)\n",
      "\t\t\t\t\t---> False (p_positive = 0.0 %)\n",
      "\t\t\t\t\t---> True (p_positive = 100.0 %)\n",
      "\t(bruises equals t? Entropy gain = 0.11)\n",
      "\t\t(stalk-root equals c? Entropy gain = 0.39)\n",
      "\t\t\t---> True (p_positive = 100.0 %)\n",
      "\t\t\t(stalk-surface-below-ring equals y? Entropy gain = 0.27)\n",
      "\t\t\t\t---> True (p_positive = 100.0 %)\n",
      "\t\t\t\t(habitat equals d? Entropy gain = 0.24)\n",
      "\t\t\t\t\t---> True (p_positive = 100.0 %)\n",
      "\t\t\t\t\t---> False (p_positive = 0.0 %)\n",
      "\t\t---> False (p_positive = 0.0 %)\n",
      "\n"
     ]
    }
   ],
   "source": [
    "tree = Tree(questions_set, Dataset(train_set), 5)\n",
    "print(tree)"
   ]
  },
  {
   "cell_type": "markdown",
   "metadata": {},
   "source": [
    "<h4>Question 5</h4>\n",
    "Which questions can actually be useful to ask to detect the edibility of a mushroom?"
   ]
  },
  {
   "cell_type": "markdown",
   "metadata": {},
   "source": [
    "<h4>Your answer</h4>\n",
    "The order to ask the question is as shown in the picture below\n",
    "<img src=\"tree.png\">"
   ]
  },
  {
   "cell_type": "markdown",
   "metadata": {},
   "source": [
    "<h4>Question 6</h4>\n",
    "You found a large amount of the following mushrooms in your garden. You would like to know whether they are edible or not.\n",
    "\n",
    "<img src=\"mushroom_lab3.jpg\" width=600 />\n",
    "\n",
    "You pick one of them and notice it has dark brown spore print. You smell it: it does not have any noticeable odor. The surface below its ring is a bit silky. Do you think that you should eat that mushroom? Justify your answer."
   ]
  },
  {
   "cell_type": "markdown",
   "metadata": {},
   "source": [
    "<h4>Your answer</h4>\n",
    "First of all, the mushroom has no odor(Odor is none?-->True). <br/>\n",
    "Then it has dark brown spore print(Spore print color  green? -->False).<br/> \n",
    "The surface is silky (Stalk surface below ring is scaly?-->False). <br/>\n",
    "Gill size is narrow (Gill size is broad?--> False). <br/>\n",
    "Finally the mushroom is not bruised. (Is bruised?--> False)<br/>\n",
    "So we conclude that the mushroom is edible."
   ]
  },
  {
   "cell_type": "markdown",
   "metadata": {},
   "source": [
    "<h4>Question 7</h4>\n",
    "Your friend prepared a dish with what he called \"mushrooms with a very pleasant almond smell that I found in the forest\". What do you think of that dish? Justify your answer."
   ]
  },
  {
   "cell_type": "code",
   "execution_count": 32,
   "metadata": {},
   "outputs": [
    {
     "name": "stdout",
     "output_type": "stream",
     "text": [
      "(odor equals n? Entropy gain = 0.76)\n",
      "\t---> True (p_positive = 96.37 %)\n",
      "\t---> False (p_positive = 4.03 %)\n",
      "\n"
     ]
    }
   ],
   "source": [
    "# You can make some tests here to evaluate the edibility of your friend's dish...\n",
    "questions_set1 = set()\n",
    "questions_set1.add(('odor', 'a', equals))\n",
    "tree1 = Tree(questions_set, Dataset(train_set),1)\n",
    "print(tree1)"
   ]
  },
  {
   "cell_type": "markdown",
   "metadata": {},
   "source": [
    "<h4>Your answer</h4>\n",
    "We create a new decision tree based on the question \"Has the mushroom an alamond smell?\". Based on that question, we obtain a decision tree: If a mushroom has an alamond smell we are sure at 96.37% that it is edile."
   ]
  },
  {
   "cell_type": "code",
   "execution_count": null,
   "metadata": {},
   "outputs": [],
   "source": []
  }
 ],
 "metadata": {
  "kernelspec": {
   "display_name": "Python 3",
   "language": "python",
   "name": "python3"
  },
  "language_info": {
   "codemirror_mode": {
    "name": "ipython",
    "version": 3
   },
   "file_extension": ".py",
   "mimetype": "text/x-python",
   "name": "python",
   "nbconvert_exporter": "python",
   "pygments_lexer": "ipython3",
   "version": "3.5.2"
  }
 },
 "nbformat": 4,
 "nbformat_minor": 2
}
